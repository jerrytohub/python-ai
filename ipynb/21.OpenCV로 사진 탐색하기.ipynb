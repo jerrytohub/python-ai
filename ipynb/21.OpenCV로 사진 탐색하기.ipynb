{
 "cells": [
  {
   "cell_type": "markdown",
   "id": "b2100ce5",
   "metadata": {},
   "source": [
    "# OpenCV 이미지 처리"
   ]
  },
  {
   "attachments": {},
   "cell_type": "markdown",
   "id": "b90e6cb5",
   "metadata": {},
   "source": [
    "## 사진 읽기\n",
    "* C 드라이브에 opencv 폴더를 만들고 깃허브의 data 폴더에 있는 whole.png와 part.png을 다운로드 받습니다.\n",
    "* imread(경로, flag)로 이미지를 읽습니다.\n",
    "    * flag\n",
    "        * 1 : Color로 읽습니다. 기본값으로 입력하지 않아도 됩니다.\n",
    "        * 0 : Gray 스케일로 읽습니다. \n",
    "        * -1 :alpha channel 까지 포함해 읽습니다.\n",
    "* 경로를 설정할 때 문자열 앞에 r을 붙이면 raw 문자열이 됩니다.\n",
    "* raw 문자열은 이스케이프 시퀀스를 그대로 저장할 때 사용합니다.\n",
    "    * \\를 \\\\\\\\로 두 번 쓰지 않고 한 번만 써도 됩니다.\n",
    "* shape로 Y축(세로), X축(가로), 채널을 확인합니다."
   ]
  },
  {
   "cell_type": "code",
   "execution_count": null,
   "id": "4afee5ea",
   "metadata": {},
   "outputs": [],
   "source": [
    "import cv2\n",
    "\n",
    "# 주피터 노트북과 같은 경로에 있다면 파일 이름만 입력해도 됩니다.\n",
    "img = cv2.imread(r'C:\\opencv\\21.whole.png') \n",
    "#shape로 크기 등을 확인합니다.\n",
    "print(img.shape) \n",
    "cv2.imshow('img',img)\n",
    "cv2.waitKey(0)\n",
    "cv2.destroyAllWindows()"
   ]
  },
  {
   "attachments": {},
   "cell_type": "markdown",
   "id": "639d568f",
   "metadata": {},
   "source": [
    "* 이미지에서 원하는 것을 인식하기 위해서 사진을 Gray 스케일로 바꿉니다.\n",
    "* Gray 스케일 처리를 하면 더욱 사물의 경계나 모양이 뚜렷하게 나올 수 있어 더 쉽게 인식할 수 있습니다.\n",
    "* cv2.cvtColor(이미지객체, cv2.COLOR_BGR2GRAY)로 Gray 스케일로 바꿉니다.\n",
    "* cv.imread(경로, 0)으로 사진을 Gray 스케일로 읽을 수 있습니다."
   ]
  },
  {
   "cell_type": "code",
   "execution_count": null,
   "id": "c29874d9",
   "metadata": {},
   "outputs": [],
   "source": [
    "import cv2\n",
    "\n",
    "# 주피터 노트북과 같은 경로에 있다면 파일 이름만 입력해도 됩니다.\n",
    "img = cv2.imread(r'C:\\opencv\\21.whole.png') \n",
    "#shape로 크기 등을 확인합니다.\n",
    "img_gray = cv2.cvtColor(img, cv2.COLOR_BGR2GRAY)\n",
    "cv2.imshow('img',img_gray)\n",
    "cv2.waitKey(0)\n",
    "cv2.destroyAllWindows()"
   ]
  },
  {
   "attachments": {},
   "cell_type": "markdown",
   "id": "84403093",
   "metadata": {},
   "source": [
    "## 전체에서 원하는 영역을 찾기\n",
    "* cv2.matchTemplate(대상, 찾으려는 것, 방식)으로 일치하는 영역을 찾습니다.\n",
    "    * return되는 값은 Gray 이미지로, 원본의 픽셀이 템플릿 이미지와 유사한 정도를 표현합니다.\n",
    "    * 원본 이미지에 템플릿 이미지를 왼쪽 위부터 오른쪽으로 이동하면서 계속 비교합니다.\n",
    "    * 다양한 방식으로 찾을 수 있다.\n",
    "        * cv2.TM_SQDIFF\n",
    "        * cv2.TM_SQDIFF_NORMED\n",
    "        * cv2.TM_CCORR\n",
    "        * cv2.TM_CCORR_NORMED\n",
    "* cv2.minMaxLoc(result)는 최소 포인터, 최대 포인터, 최소 지점, 최대 지점을 반환합니다."
   ]
  },
  {
   "cell_type": "code",
   "execution_count": null,
   "id": "639095f5",
   "metadata": {},
   "outputs": [],
   "source": [
    "import cv2\n",
    "\n",
    "img = cv2.imread(r'C:\\opencv\\21.whole.png',0)\n",
    "a = cv2.imread(r'C:\\opencv\\21.part.png',0)\n",
    "b = cv2.imread(r'C:\\opencv\\21.whole.png')\n",
    "result = cv2.matchTemplate(img, a, cv2.TM_SQDIFF)\n",
    "minVal, maxVal, minLoc, maxLoc = cv2.minMaxLoc(result)\n",
    "# 인식한 이미지의 x, y값을 저장합니다.\n",
    "x,y = minLoc \n",
    "# 찾으려는 이미지의 높이와 너비를 저장합니다.\n",
    "h,w = a.shape \n",
    "print(x,y,h,w)"
   ]
  },
  {
   "cell_type": "code",
   "execution_count": null,
   "id": "44adcace",
   "metadata": {},
   "outputs": [],
   "source": [
    "import cv2\n",
    "\n",
    "mg = cv2.imread(r'C:\\opencv\\21.whole.png',0)\n",
    "a = cv2.imread(r'C:\\opencv\\21.part.png',0)\n",
    "b = cv2.imread(r'C:\\opencv\\21.whole.png')\n",
    "result = cv2.matchTemplate(img, a, cv2.TM_SQDIFF)\n",
    "minVal, maxVal, minLoc, maxLoc = cv2.minMaxLoc(result)\n",
    "x,y = minLoc \n",
    "h,w = a.shape \n",
    "# b 이미지 위에 사각형을 그립니다. \n",
    "# b는 Color로 읽은 사진입니다.\n",
    "b = cv2.rectangle(b, (x, y), (x + w, y + h), (0,0,255), 2) \n",
    "cv2.imshow(\"result\", b)\n",
    "cv2.waitKey(0)\n",
    "cv2.destroyAllWindows()"
   ]
  },
  {
   "cell_type": "markdown",
   "id": "73c0b7f5",
   "metadata": {},
   "source": [
    "# 사진을 하나 올라서 전체 사진에서 부분 찾기\n",
    "* 무료 이미지 사이트 등에서 사진을 하나 골라서 저장합니다.\n",
    "* 전체 사진에서 특정 부분을 잘라서 저장합니다.\n",
    "    * 이때 사진의 크기가 바뀌면 안 됩니다.\n",
    "* 전체 사진과 부분 사진을 사용해서 전체 사진에서 부분 사진을 찾는 프로그램을 만들어보세요."
   ]
  }
 ],
 "metadata": {
  "kernelspec": {
   "display_name": "opencv",
   "language": "python",
   "name": "opencv"
  },
  "language_info": {
   "codemirror_mode": {
    "name": "ipython",
    "version": 3
   },
   "file_extension": ".py",
   "mimetype": "text/x-python",
   "name": "python",
   "nbconvert_exporter": "python",
   "pygments_lexer": "ipython3",
   "version": "3.11.5"
  }
 },
 "nbformat": 4,
 "nbformat_minor": 5
}
