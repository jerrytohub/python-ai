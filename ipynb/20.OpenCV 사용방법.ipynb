{
 "cells": [
  {
   "cell_type": "markdown",
   "id": "d2dfb958",
   "metadata": {},
   "source": [
    "# OpenCV 사용하기"
   ]
  },
  {
   "cell_type": "markdown",
   "id": "d9e84bde",
   "metadata": {},
   "source": [
    "## opencv 설치하기\n",
    "* Anaconda Prompt나 명령 프롬프트(cmd)를 실행합니다.\n",
    "* 가상환경을 사용하는 경우 conda activate 가상환경이름으로 가상환경을 활성화합니다.\n",
    "* ```pip install opencv-python``` 명령어로 설치합니다.\n",
    "* ```jupyter notebook``` 명령어로 주피터 노트북을 실행합니다."
   ]
  },
  {
   "cell_type": "code",
   "execution_count": 2,
   "id": "a6395586",
   "metadata": {},
   "outputs": [
    {
     "data": {
      "text/plain": [
       "'4.9.0'"
      ]
     },
     "execution_count": 2,
     "metadata": {},
     "output_type": "execute_result"
    }
   ],
   "source": [
    "# OpenCV를 import 하고 버전을 확인합니다.\n",
    "import cv2\n",
    "cv2.__version__"
   ]
  },
  {
   "cell_type": "markdown",
   "id": "7fef45f8",
   "metadata": {},
   "source": [
    "## 도형 그리기"
   ]
  },
  {
   "cell_type": "markdown",
   "id": "2d59def7",
   "metadata": {},
   "source": [
    "### OpenCV 그리기 기초\n",
    "* numpy를 사용해서 그림 그릴 공간을 정합니다.\n",
    "* imshow로 이미지를 창에 보여줍니다.\n",
    "* waitKey로 지정된 시간 동안 사용자가 키를 입력할 때까지 기다립니다.\n",
    "    * 기준은 밀리초입니다.\n",
    "        * 1000밀리초 = 1초\n",
    "    * waitKey(0)이면 계속 기다립니다.\n",
    "    * waitKey(5000)이면 5초 기다리고 그 아래 있는 코드가 실행됩니다.\n",
    "    * destroyAllWindows로 창을 닫습니다.\n",
    "* opencv에서 RGB가 아니라 BGR 순입니다."
   ]
  },
  {
   "cell_type": "code",
   "execution_count": 3,
   "id": "b958d04d",
   "metadata": {},
   "outputs": [],
   "source": [
    "import numpy as np"
   ]
  },
  {
   "cell_type": "code",
   "execution_count": 8,
   "id": "9144a8ff",
   "metadata": {},
   "outputs": [
    {
     "name": "stdout",
     "output_type": "stream",
     "text": [
      "[[[0 0 0]\n",
      "  [0 0 0]\n",
      "  [0 0 0]\n",
      "  ...\n",
      "  [0 0 0]\n",
      "  [0 0 0]\n",
      "  [0 0 0]]\n",
      "\n",
      " [[0 0 0]\n",
      "  [0 0 0]\n",
      "  [0 0 0]\n",
      "  ...\n",
      "  [0 0 0]\n",
      "  [0 0 0]\n",
      "  [0 0 0]]\n",
      "\n",
      " [[0 0 0]\n",
      "  [0 0 0]\n",
      "  [0 0 0]\n",
      "  ...\n",
      "  [0 0 0]\n",
      "  [0 0 0]\n",
      "  [0 0 0]]\n",
      "\n",
      " ...\n",
      "\n",
      " [[0 0 0]\n",
      "  [0 0 0]\n",
      "  [0 0 0]\n",
      "  ...\n",
      "  [0 0 0]\n",
      "  [0 0 0]\n",
      "  [0 0 0]]\n",
      "\n",
      " [[0 0 0]\n",
      "  [0 0 0]\n",
      "  [0 0 0]\n",
      "  ...\n",
      "  [0 0 0]\n",
      "  [0 0 0]\n",
      "  [0 0 0]]\n",
      "\n",
      " [[0 0 0]\n",
      "  [0 0 0]\n",
      "  [0 0 0]\n",
      "  ...\n",
      "  [0 0 0]\n",
      "  [0 0 0]\n",
      "  [0 0 0]]]\n"
     ]
    }
   ],
   "source": [
    "# 세로 400 X 가로 400에 RGB(3채널)을 사용하는 공간을 만들겠습니다.\n",
    "# 세로부터 시작합니다.\n",
    "# zeros를 데이터를 0으로 채웁니다.\n",
    "img = np.zeros((400,400,3), dtype=np.uint8)\n",
    "print(img)"
   ]
  },
  {
   "cell_type": "code",
   "execution_count": 7,
   "id": "0a484039",
   "metadata": {},
   "outputs": [],
   "source": [
    "# 프로그램을 시작하면 작업 표시줄에 아이콘이 하나 생깁니다.\n",
    "# 이 아이콘이 클릭하면 그림이 나옵니다.\n",
    "# 0,0,0이면 검은색입니다.\n",
    "cv2.imshow('img', img) # 'img'는 창 이름입니다.\n",
    "cv2.waitKey(0)\n",
    "cv2.destroyAllWindows()"
   ]
  },
  {
   "cell_type": "code",
   "execution_count": 14,
   "id": "f611667a",
   "metadata": {},
   "outputs": [],
   "source": [
    "# 255, 255, 255이면 하얀색입니다.\n",
    "img[:] = 255 # 데이터를 모두 255로 바꿉니다.\n",
    "cv2.imshow('img', img) \n",
    "cv2.waitKey(0)\n",
    "cv2.destroyAllWindows()"
   ]
  },
  {
   "cell_type": "code",
   "execution_count": 13,
   "id": "85e209f0",
   "metadata": {},
   "outputs": [],
   "source": [
    "# OpenCV는 BGR 순입니다.\n",
    "# 배경색을 파란색으로 바꿔보겠습니다.\n",
    "img[:] = (255,0,0)\n",
    "cv2.imshow('img', img) \n",
    "cv2.waitKey(0)\n",
    "cv2.destroyAllWindows()"
   ]
  },
  {
   "cell_type": "markdown",
   "id": "380bf0a8",
   "metadata": {},
   "source": [
    "### 일부 영역 그리기\n",
    "* OpenCV에서 왼쪽 위가 기준입니다.\n",
    "    * (0,0)입니다.\n",
    "* 오른쪽으로 갈수록 x좌푯값이 커집니다.\n",
    "* 아래로 갈수록 y좌푯값이 커집니다. "
   ]
  },
  {
   "cell_type": "code",
   "execution_count": 17,
   "id": "d9b3b922",
   "metadata": {},
   "outputs": [],
   "source": [
    "# 일단 배경색을 검은색으로 하겠습니다.\n",
    "img[:] = (0,0,0)\n",
    "# img 변수에 슬라이싱을 해서 영역을 정합니다.\n",
    "# 왼쪽 위가 기준입니다.\n",
    "img[0:100, 0:100] = (255,255,255)\n",
    "cv2.imshow('img', img) \n",
    "cv2.waitKey(0)\n",
    "cv2.destroyAllWindows()"
   ]
  },
  {
   "cell_type": "markdown",
   "id": "a337e8f2",
   "metadata": {},
   "source": [
    "### 직선 그리기\n",
    "* 선의 종류가 있습니다.\n",
    "* cv2.LINE_8 : 대각선을 포함한 8 방향으로 연결된 선(기본값)\n",
    "* cv2.LINE_AA : 부드러운 선(anti-aliasing)\n",
    "* line(이미지객체, (시작x, 시작y), (끝x, 끝y), 색깔, 굵기, 선 종류)로 그립니다.\n",
    "    * 선 종류를 넣지 않으면 기본값인 cv2.LINE_8이 됩니다. "
   ]
  },
  {
   "cell_type": "code",
   "execution_count": 20,
   "id": "7f21ead1",
   "metadata": {},
   "outputs": [],
   "source": [
    "img[:] = (0,0,0)\n",
    "cv2.line(img, (0,0), (200,200), (0,0,255), 3, cv2.LINE_AA)\n",
    "cv2.imshow('img', img) \n",
    "cv2.waitKey(0)\n",
    "cv2.destroyAllWindows()"
   ]
  },
  {
   "cell_type": "markdown",
   "id": "d80b940c",
   "metadata": {},
   "source": [
    "### 원\n",
    "* circle(이미지객체, (중심점x, 중심점y), 반지름, 색깔, 굵기, 선 종류)로 그립니다.\n",
    "* circle(이미지객체, (중심점x, 중심점y), 반지름, 색깔, cv2.FILLED, 선 종류)로 색칠한 원을 그립니다."
   ]
  },
  {
   "cell_type": "code",
   "execution_count": 23,
   "id": "da7e586b",
   "metadata": {},
   "outputs": [],
   "source": [
    "# 다시 검은색으로 배경색을 정합니다.\n",
    "img[:] = (0,0,0)\n",
    "cv2.circle(img, (200,200), 50, (0,0,255), 5, cv2.LINE_AA)\n",
    "cv2.imshow('img', img) \n",
    "cv2.waitKey(0)\n",
    "cv2.destroyAllWindows()"
   ]
  },
  {
   "cell_type": "code",
   "execution_count": 25,
   "id": "7e817294",
   "metadata": {},
   "outputs": [],
   "source": [
    "img[:] = (0,0,0)\n",
    "cv2.circle(img, (200,200), 50, (255,0,0), cv2.FILLED, cv2.LINE_AA)\n",
    "cv2.imshow('img', img) \n",
    "cv2.waitKey(0)\n",
    "cv2.destroyAllWindows()"
   ]
  },
  {
   "cell_type": "markdown",
   "id": "c2b21281",
   "metadata": {},
   "source": [
    "### 사각형 그리기\n",
    "* rectangle(이미지객체, (왼쪽위x, 왼쪽위y), (오른쪽아래x, 오른쪽아래y), 색깔, 두께)로 사각형을 그립니다.\n",
    "* rectangle(이미지객체, (왼쪽위x, 왼쪽위y), (오른쪽아래x, 오른쪽아래y), 색깔, cv2.FILLED)로 색칠한 사각형을 그립니다."
   ]
  },
  {
   "cell_type": "code",
   "execution_count": 26,
   "id": "71cdd4fa",
   "metadata": {},
   "outputs": [],
   "source": [
    "img[:] = (0,0,0)\n",
    "cv2.rectangle(img, (10,10), (190,190), (255,0,0), 2)\n",
    "cv2.rectangle(img, (210,210), (390,390), (255,0,0), cv2.FILLED)\n",
    "cv2.imshow('img', img) \n",
    "cv2.waitKey(0)\n",
    "cv2.destroyAllWindows()"
   ]
  },
  {
   "cell_type": "markdown",
   "id": "92dec8d9",
   "metadata": {},
   "source": [
    "### 글자 나타내기\n",
    "* putText(이미지객체, '글자', (x, y), 폰트, 크기, 색깔, 굵기)로 글자를 나타냅니다.\n",
    "* OpenCV에서 사용하는 대표적인 글꼴 종류\n",
    "    * cv2.FONT_HERSHEY_SIMPLEX : 보통 크기의 산 세리프 글꼴\n",
    "    * cv2.FONT_HERSHEY_SCRIPT_SIMPLEX : 필기체"
   ]
  },
  {
   "cell_type": "code",
   "execution_count": 33,
   "id": "a54ccbc1",
   "metadata": {},
   "outputs": [],
   "source": [
    "img[:] = (0,0,0)\n",
    "cv2.putText(img, 'python', (100, 100), cv2.FONT_HERSHEY_SIMPLEX, 1, (0,0,255), 1)\n",
    "cv2.imshow('img', img) \n",
    "cv2.waitKey(0)\n",
    "cv2.destroyAllWindows()"
   ]
  }
 ],
 "metadata": {
  "kernelspec": {
   "display_name": "opencv",
   "language": "python",
   "name": "opencv"
  },
  "language_info": {
   "codemirror_mode": {
    "name": "ipython",
    "version": 3
   },
   "file_extension": ".py",
   "mimetype": "text/x-python",
   "name": "python",
   "nbconvert_exporter": "python",
   "pygments_lexer": "ipython3",
   "version": "3.11.5"
  }
 },
 "nbformat": 4,
 "nbformat_minor": 5
}
