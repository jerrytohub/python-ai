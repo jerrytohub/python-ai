{
 "cells": [
  {
   "cell_type": "code",
   "execution_count": null,
   "id": "f9f45948",
   "metadata": {},
   "outputs": [],
   "source": [
    "# 경고 메시지가 나오지 않도록 warnings 모듈을 사용합니다.\n",
    "import warnings\n",
    "import numpy as np\n",
    "import pandas as pd\n",
    "import matplotlib.pyplot as plt\n",
    "import seaborn as sns\n",
    "\n",
    "warnings.filterwarnings('ignore')"
   ]
  },
  {
   "cell_type": "code",
   "execution_count": null,
   "id": "a753119a",
   "metadata": {},
   "outputs": [],
   "source": [
    "# 아나콘다의 경우 아래와 같이 코딩합니다.\n",
    "from matplotlib import font_manager, rc\n",
    "plt.rcParams['axes.unicode_minus'] = False\n",
    "\n",
    "# 컴퓨터에 있는 맑은 고딕 폰트를 사용합니다.\n",
    "f_path = \"C:/Windows/Fonts/malgun.ttf\"\n",
    "font_name = font_manager.FontProperties(fname=f_path).get_name()\n",
    "rc('font', family=font_name)"
   ]
  },
  {
   "cell_type": "code",
   "execution_count": null,
   "id": "b1419409",
   "metadata": {},
   "outputs": [],
   "source": [
    "# cp949 방식으로 읽어야 합니다.\n",
    "df = pd.read_csv('17.data.csv', encoding='cp949')\n",
    "df.head()"
   ]
  },
  {
   "cell_type": "code",
   "execution_count": null,
   "id": "a5ca0fa5",
   "metadata": {},
   "outputs": [],
   "source": [
    "# 컬럼 이름을 확인합니다.\n",
    "df.columns"
   ]
  },
  {
   "cell_type": "code",
   "execution_count": null,
   "id": "756a135f",
   "metadata": {
    "scrolled": true
   },
   "outputs": [],
   "source": [
    "# 필요한 컬럼만 선택합니다.\n",
    "df = df[['사업장명','사업장업종코드','사업장업종코드명','법정동주소광역시도코드','가입자수','신규취득자수','상실가입자수','당월고지금액']].copy()\n",
    "df "
   ]
  },
  {
   "cell_type": "code",
   "execution_count": null,
   "id": "8597758f",
   "metadata": {},
   "outputs": [],
   "source": [
    "# 컬럼 이름을 사용하기 쉽게 바꿉니다.\n",
    "column_names = ['사업장명','업종코드','업종코드명','시도코드','가입자수','신규','상실','금액']\n",
    "df.columns = column_names\n",
    "df.head()"
   ]
  },
  {
   "cell_type": "code",
   "execution_count": null,
   "id": "e13ce979",
   "metadata": {},
   "outputs": [],
   "source": [
    "# 사업자 이름에서 필요한 것을 지우기 위해서 정규식을 사용합니다.\n",
    "import re\n",
    "\n",
    "pattern1 = '(\\([^)]+\\))'\n",
    "re.sub(pattern1, '', '파이썬회사(주)')"
   ]
  },
  {
   "cell_type": "code",
   "execution_count": null,
   "id": "2f0436ac",
   "metadata": {},
   "outputs": [],
   "source": [
    "# 정규식 패턴을 정합니다.\n",
    "pattern1 = '(\\([^)]+\\))'\n",
    "pattern2 = '(\\[[^)]+\\])'\n",
    "pattern3 = '[^A-Za-z0-9가-힣]'"
   ]
  },
  {
   "cell_type": "code",
   "execution_count": null,
   "id": "65a396ff",
   "metadata": {
    "scrolled": true
   },
   "outputs": [],
   "source": [
    "# 함수를 사용해서 필요없는 글자를 삭제합니다.\n",
    "def preprocessing(x):\n",
    "    x = re.sub(pattern1, '', x)\n",
    "    x = re.sub(pattern2, '', x)\n",
    "    x = re.sub(pattern3, ' ', x)\n",
    "    x = re.sub(' +', ' ', x)\n",
    "    return x\n",
    "\n",
    "df['사업장명'] = df['사업장명'].apply(preprocessing)\n",
    "df.head()"
   ]
  },
  {
   "cell_type": "code",
   "execution_count": null,
   "id": "1902e1a3",
   "metadata": {},
   "outputs": [],
   "source": [
    "# 수도권 기업 가입자수를 확인해보겠습니다.\n",
    "# 내림차순으로 20개를 보여줍니다.\n",
    "# 시도코드가 11~41 사이에 있으면 수도권에 있는 기업입니다.\n",
    "plt.figure(figsize=(8, 10))\n",
    "tmp = df.loc[df['시도코드'].isin([11, 41]), ['사업장명', '가입자수']].sort_values('가입자수', ascending=False).head(20).reset_index()\n",
    "sns.barplot(y='사업장명', x='가입자수', data=tmp)\n",
    "plt.xticks(rotation=30)\n",
    "plt.title('수도권 기업 가입자수')\n",
    "plt.show()"
   ]
  },
  {
   "cell_type": "markdown",
   "id": "3bd8a4f7",
   "metadata": {},
   "source": [
    "* 국민연금 보험률은 9%입니다. \n",
    "    * 급여의 9%를 국민연금으로 냅니다.\n",
    "* 4.5%는 회사가, 나머지 4.5%는 개인이 부담합니다.\n",
    "* 이를 거꾸로 계산해서 급여를 계산합니다.\n",
    "* 국민연금 보험료는 소득 상한선과 하한선이 설정되어 있습니다.\n",
    "* 하지만 상한선과 하한선이 있어서 실제보다 작게 계산될 수 있습니다.\n",
    "\n",
    "> * 1인당금액 = 금액 / 가입자수   \n",
    "> * 월급여 = 1인당금액 / 9% * 100%   \n",
    "> * 연봉  = 월급여 * 12개월"
   ]
  },
  {
   "cell_type": "code",
   "execution_count": null,
   "id": "81d5ca50",
   "metadata": {},
   "outputs": [],
   "source": [
    "df['1인당금액'] = df['금액'] / df['가입자수']\n",
    "df['월급여'] =  df['1인당금액'] / 9 * 100\n",
    "df['연봉'] = df['월급여'] * 12\n",
    "df.head()"
   ]
  },
  {
   "cell_type": "code",
   "execution_count": null,
   "id": "de3558de",
   "metadata": {},
   "outputs": [],
   "source": [
    "# 결측치를 제거합니다.\n",
    "df.dropna(axis=0, inplace=True)\n",
    "df"
   ]
  },
  {
   "cell_type": "code",
   "execution_count": null,
   "id": "af8a1381",
   "metadata": {},
   "outputs": [],
   "source": [
    "# 회사 정보를 알려주는 함수를 만듭니다.\n",
    "def find_company(name):\n",
    "    return df.loc[df['사업장명']==name, ['사업장명','가입자수','연봉']].sort_values('연봉', ascending=False)"
   ]
  },
  {
   "cell_type": "code",
   "execution_count": null,
   "id": "4fa476e7",
   "metadata": {},
   "outputs": [],
   "source": [
    "find_company('삼성전자')"
   ]
  },
  {
   "cell_type": "code",
   "execution_count": null,
   "id": "f17f04a0",
   "metadata": {},
   "outputs": [],
   "source": [
    "# 파일로 저장합니다.\n",
    "df.to_csv('17.data_processing.csv')"
   ]
  }
 ],
 "metadata": {
  "kernelspec": {
   "display_name": "Python 3 (ipykernel)",
   "language": "python",
   "name": "python3"
  },
  "language_info": {
   "codemirror_mode": {
    "name": "ipython",
    "version": 3
   },
   "file_extension": ".py",
   "mimetype": "text/x-python",
   "name": "python",
   "nbconvert_exporter": "python",
   "pygments_lexer": "ipython3",
   "version": "3.11.5"
  }
 },
 "nbformat": 4,
 "nbformat_minor": 5
}
